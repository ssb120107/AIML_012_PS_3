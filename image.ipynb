{
 "cells": [
  {
   "cell_type": "code",
   "execution_count": 1,
   "id": "5d5394e7",
   "metadata": {},
   "outputs": [],
   "source": [
    "train_dir='D:/ML/iitiSoC/PS 3/code/images/VisDrone2019-DET-train'\n",
    "val_dir  ='D:/ML/iitiSoC/PS 3/code/images/VisDrone2019-DET-val'\n"
   ]
  },
  {
   "cell_type": "markdown",
   "id": "00dbdac4",
   "metadata": {},
   "source": [
    "annotation convertion\n"
   ]
  },
  {
   "cell_type": "code",
   "execution_count": null,
   "id": "e035bb20",
   "metadata": {},
   "outputs": [],
   "source": [
    "import os\n",
    "from PIL import Image\n",
    "\n",
    "def convert_visdrone_to_yolo(ann_dir, img_dir, ann_yolo_dir):\n",
    "\n",
    "    for ann_file in os.listdir(ann_dir):\n",
    "\n",
    "        img_file = ann_file.replace('.txt', '.jpg')\n",
    "        img_path = os.path.join(img_dir, img_file)\n",
    "        ann_path = os.path.join(ann_dir, ann_file)\n",
    "        ann_yolo_path = os.path.join(ann_yolo_dir, ann_file)\n",
    "\n",
    "\n",
    "        img = Image.open(img_path)\n",
    "        w, h = img.size\n",
    "\n",
    "        lines_out = []\n",
    "        file = open(ann_path, 'r')\n",
    "        for line in file:\n",
    "            ann_string= line.split(',')\n",
    "            x, y, width, height, score, category, trunc, occ = map(float,ann_string[:8])\n",
    "            category = int(category)\n",
    "            \n",
    "\n",
    "                # Skip ignored regions\n",
    "            if category == 0:\n",
    "                    continue\n",
    "\n",
    "            yolo_cls = category - 1\n",
    "            x_center = (x + width / 2) / w\n",
    "            y_center = (y + height / 2) / h\n",
    "            width_norm = width / w\n",
    "            height_norm = height / h\n",
    "\n",
    "            lines_out.append(f\"{yolo_cls} {x_center:.6f} {y_center:.6f} {width_norm:.6f} {height_norm:.6f}\")\n",
    "\n",
    "        file = open(ann_yolo_path, 'a')\n",
    "        file.write('\\n'.join(lines_out))\n",
    "        file.close()\n",
    "\n",
    "convert_visdrone_to_yolo(\n",
    "    ann_dir='D:/ML/iitiSoC/PS 3/visdrone/images/VisDrone2019-DET-train/annotations',\n",
    "    img_dir='D:/ML/iitiSoC/PS 3/visdrone/images/VisDrone2019-DET-train/images',\n",
    "    ann_yolo_dir='D:/ML/iitiSoC/PS 3/visdrone/images/VisDrone2019-DET-train/ann_yolo'\n",
    ")\n",
    "\n",
    "\n",
    "# Call the  function for the val dataset\n",
    "convert_visdrone_to_yolo(\n",
    "    ann_dir='D:/ML/iitiSoC/PS 3/visdrone/images/VisDrone2019-DET-val/annotations',\n",
    "    img_dir='D:/ML/iitiSoC/PS 3/visdrone/images/VisDrone2019-DET-val/images',\n",
    "    ann_yolo_dir='D:/ML/iitiSoC/PS 3/visdrone/images/VisDrone2019-DET-val/ann_yolo'\n",
    ")"
   ]
  },
  {
   "cell_type": "markdown",
   "id": "9b53b95c",
   "metadata": {},
   "source": [
    "Preprocessing images"
   ]
  },
  {
   "cell_type": "code",
   "execution_count": 13,
   "id": "7667fe95",
   "metadata": {},
   "outputs": [],
   "source": [
    "import os\n",
    "import cv2\n",
    "\n",
    "def resize_images(img_dir,processed_dir):\n",
    "    for img_file in os.listdir(img_dir):\n",
    "        img_path =os.path.join(img_dir,img_file)\n",
    "        processed_path=os.path.join(processed_dir,img_file)\n",
    "        \n",
    "        img=cv2.imread(img_path)\n",
    "        img_resized=cv2.resize(img,(640,640))\n",
    "        cv2.imwrite(processed_path,img_resized)\n",
    "\n",
    "resize_images(\n",
    "    img_dir='D:/ML/iitiSoC/PS 3/visdrone/images/VisDrone2019-DET-train/images',\n",
    "    processed_dir='D:/ML/iitiSoC/PS 3/visdrone/images/VisDrone2019-DET-train/processed images'\n",
    ")\n",
    "\n",
    "resize_images(\n",
    "    img_dir='D:/ML/iitiSoC/PS 3/visdrone/images/VisDrone2019-DET-val/images',\n",
    "    processed_dir='D:/ML/iitiSoC/PS 3/visdrone/images/VisDrone2019-DET-val/processed images'\n",
    ")\n"
   ]
  },
  {
   "cell_type": "markdown",
   "id": "e7968190",
   "metadata": {},
   "source": [
    "checking missing files"
   ]
  },
  {
   "cell_type": "code",
   "execution_count": 21,
   "id": "85b993e9",
   "metadata": {},
   "outputs": [
    {
     "name": "stdout",
     "output_type": "stream",
     "text": [
      "Images without their corresponding annotations: set()\n",
      "annotations without their corresponding images: set()\n"
     ]
    }
   ],
   "source": [
    "\n",
    "def check_missing_files(processed_dir, ann_dir):\n",
    "    for img_file in os.listdir(processed_dir):\n",
    "        images = set([img_file.replace('.jpg', '')])\n",
    "    for ann_file in os.listdir(ann_dir):\n",
    "        annotations = set([ann_file.replace('.txt', '')])\n",
    "    \n",
    "    print(f\"Images without their corresponding annotations: {images - annotations}\")\n",
    "    print(f\"annotations without their corresponding images: {annotations - images}\")\n",
    "\n",
    "check_missing_files(\n",
    "    processed_dir='D:/ML/iitiSoC/PS 3/visdrone/images/VisDrone2019-DET-train/processed images', \n",
    "    ann_dir  ='D:/ML/iitiSoC/PS 3/visdrone/images/VisDrone2019-DET-train/annotations')\n"
   ]
  },
  {
   "cell_type": "code",
   "execution_count": null,
   "id": "0f295f48",
   "metadata": {},
   "outputs": [
    {
     "name": "stdout",
     "output_type": "stream",
     "text": [
      "Requirement already satisfied: albumentations in c:\\program files\\python313\\lib\\site-packages (2.0.8)\n",
      "Requirement already satisfied: numpy>=1.24.4 in c:\\users\\ssbor\\appdata\\roaming\\python\\python313\\site-packages (from albumentations) (2.3.0)\n",
      "Requirement already satisfied: scipy>=1.10.0 in c:\\users\\ssbor\\appdata\\roaming\\python\\python313\\site-packages (from albumentations) (1.15.3)\n",
      "Requirement already satisfied: PyYAML in c:\\users\\ssbor\\appdata\\roaming\\python\\python313\\site-packages (from albumentations) (6.0.2)\n",
      "Requirement already satisfied: pydantic>=2.9.2 in c:\\program files\\python313\\lib\\site-packages (from albumentations) (2.11.7)\n",
      "Requirement already satisfied: albucore==0.0.24 in c:\\program files\\python313\\lib\\site-packages (from albumentations) (0.0.24)\n",
      "Requirement already satisfied: opencv-python-headless>=4.9.0.80 in c:\\program files\\python313\\lib\\site-packages (from albumentations) (4.11.0.86)\n",
      "Requirement already satisfied: stringzilla>=3.10.4 in c:\\users\\ssbor\\appdata\\roaming\\python\\python313\\site-packages (from albucore==0.0.24->albumentations) (3.12.5)\n",
      "Requirement already satisfied: simsimd>=5.9.2 in c:\\users\\ssbor\\appdata\\roaming\\python\\python313\\site-packages (from albucore==0.0.24->albumentations) (6.4.9)\n",
      "Requirement already satisfied: annotated-types>=0.6.0 in c:\\program files\\python313\\lib\\site-packages (from pydantic>=2.9.2->albumentations) (0.7.0)\n",
      "Requirement already satisfied: pydantic-core==2.33.2 in c:\\users\\ssbor\\appdata\\roaming\\python\\python313\\site-packages (from pydantic>=2.9.2->albumentations) (2.33.2)\n",
      "Requirement already satisfied: typing-extensions>=4.12.2 in c:\\users\\ssbor\\appdata\\roaming\\python\\python313\\site-packages (from pydantic>=2.9.2->albumentations) (4.14.0)\n",
      "Requirement already satisfied: typing-inspection>=0.4.0 in c:\\users\\ssbor\\appdata\\roaming\\python\\python313\\site-packages (from pydantic>=2.9.2->albumentations) (0.4.1)\n"
     ]
    }
   ],
   "source": [
    "%pip install albumentations\n",
    "import albumentations as A"
   ]
  }
 ],
 "metadata": {
  "kernelspec": {
   "display_name": "Python 3",
   "language": "python",
   "name": "python3"
  },
  "language_info": {
   "codemirror_mode": {
    "name": "ipython",
    "version": 3
   },
   "file_extension": ".py",
   "mimetype": "text/x-python",
   "name": "python",
   "nbconvert_exporter": "python",
   "pygments_lexer": "ipython3",
   "version": "3.13.3"
  }
 },
 "nbformat": 4,
 "nbformat_minor": 5
}
