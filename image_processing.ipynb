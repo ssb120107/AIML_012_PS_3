{
 "cells": [
  {
   "cell_type": "code",
   "execution_count": null,
   "id": "5d5394e7",
   "metadata": {},
   "outputs": [],
   "source": [
    "train_dir='D:/ML/iitiSoC/PS 3/code/images/VisDrone2019-DET-train'\n",
    "val_dir  ='D:/ML/iitiSoC/PS 3/code/images/VisDrone2019-DET-val'"
   ]
  },
  {
   "cell_type": "markdown",
   "id": "00dbdac4",
   "metadata": {},
   "source": [
    "annotation convertion\n"
   ]
  },
  {
   "cell_type": "code",
   "execution_count": null,
   "id": "e035bb20",
   "metadata": {},
   "outputs": [],
   "source": [
    "import os\n",
    "from PIL import Image\n",
    "\n",
    "def convert_visdrone_to_yolo(ann_dir, img_dir, ann_yolo_dir):\n",
    "\n",
    "    for ann_file in os.listdir(ann_dir):\n",
    "\n",
    "        img_file = ann_file.replace('.txt', '.jpg')\n",
    "        img_path = os.path.join(img_dir, img_file)\n",
    "        ann_path = os.path.join(ann_dir, ann_file)\n",
    "        ann_yolo_path = os.path.join(ann_yolo_dir, ann_file)\n",
    "\n",
    "\n",
    "        img = Image.open(img_path)  \n",
    "        w, h = img.size           # this takes the width and height of the image which is used to normalize the bounding box coordinates\n",
    "\n",
    "        lines_out = []\n",
    "        file = open(ann_path, 'r')\n",
    "        for line in file:\n",
    "            ann_string= line.split(',')\n",
    "            x, y, width, height, score, category, trunc, occ = map(float,ann_string[:8])\n",
    "            category = int(category)\n",
    "            \n",
    "\n",
    "                # Skip ignored regions\n",
    "            if category == 0:\n",
    "                    continue\n",
    "            \n",
    "            # Normalize the bounding box coordinates\n",
    "            yolo_cls = category - 1\n",
    "            x_center = (x + width / 2) / w\n",
    "            y_center = (y + height / 2) / h\n",
    "            width_norm = width / 928\n",
    "            height_norm = height / 928\n",
    "\n",
    "            # yolo format : class id x_center y_center width height\n",
    "            lines_out.append(f\"{yolo_cls} {x_center:.6f} {y_center:.6f} {width_norm:.6f} {height_norm:.6f}\")\n",
    "\n",
    "        file = open(ann_yolo_path, 'a')\n",
    "        file.write('\\n'.join(lines_out))\n",
    "        file.close()\n",
    "        \n",
    "# call the function for the train dataset\n",
    "convert_visdrone_to_yolo(\n",
    "    ann_dir='D:/ML/iitiSoC/PS 3/visdrone/images/VisDrone2019-DET-train/annotations',\n",
    "    img_dir='D:/ML/iitiSoC/PS 3/visdrone/images/VisDrone2019-DET-train/images',\n",
    "    ann_yolo_dir='D:/ML/iitiSoC/PS 3/visdrone/images/VisDrone2019-DET-train/ann_yolo'\n",
    ")\n",
    "\n",
    "\n",
    "# Call the  function for the val dataset\n",
    "convert_visdrone_to_yolo(\n",
    "    ann_dir='D:/ML/iitiSoC/PS 3/visdrone/images/VisDrone2019-DET-val/annotations',\n",
    "    img_dir='D:/ML/iitiSoC/PS 3/visdrone/images/VisDrone2019-DET-val/images',\n",
    "    ann_yolo_dir='D:/ML/iitiSoC/PS 3/visdrone/images/VisDrone2019-DET-val/ann_yolo'\n",
    ")"
   ]
  },
  {
   "cell_type": "markdown",
   "id": "9b53b95c",
   "metadata": {},
   "source": [
    "Preprocessing images"
   ]
  },
  {
   "cell_type": "code",
   "execution_count": null,
   "id": "7667fe95",
   "metadata": {},
   "outputs": [],
   "source": [
    "import os\n",
    "import cv2\n",
    "\n",
    "def resize_images(img_dir,processed_dir):\n",
    "    for img_file in os.listdir(img_dir):\n",
    "        img_path =os.path.join(img_dir,img_file)\n",
    "        processed_path=os.path.join(processed_dir,img_file)\n",
    "        \n",
    "        img=cv2.imread(img_path)\n",
    "        img_resized=cv2.resize(img,(928,928))   \n",
    "        cv2.imwrite(processed_path,img_resized)\n",
    "\n",
    "resize_images(\n",
    "    img_dir='D:/ML/iitiSoC/PS 3/visdrone/images/VisDrone2019-DET-train/images',\n",
    "    processed_dir='D:/ML/iitiSoC/PS 3/visdrone/images/VisDrone2019-DET-train/processed images'\n",
    ")\n",
    "\n",
    "resize_images(\n",
    "    img_dir='D:/ML/iitiSoC/PS 3/visdrone/images/VisDrone2019-DET-val/images',\n",
    "    processed_dir='D:/ML/iitiSoC/PS 3/visdrone/images/VisDrone2019-DET-val/processed images'\n",
    ")\n"
   ]
  },
  {
   "cell_type": "markdown",
   "id": "e7968190",
   "metadata": {},
   "source": [
    "checking missing files"
   ]
  },
  {
   "cell_type": "code",
   "execution_count": null,
   "id": "85b993e9",
   "metadata": {},
   "outputs": [
    {
     "name": "stdout",
     "output_type": "stream",
     "text": [
      "Images without their corresponding annotations: set()\n",
      "annotations without their corresponding images: set()\n",
      "Images without their corresponding annotations: set()\n",
      "annotations without their corresponding images: set()\n"
     ]
    }
   ],
   "source": [
    "\n",
    "import os\n",
    "def check_missing_files(processed_dir, yolo_ann_dir):\n",
    "    \n",
    "    for img_file in os.listdir(processed_dir):\n",
    "        processed_images = set([img_file.replace('.jpg', '')])\n",
    "    for yolo_ann_file in os.listdir(yolo_ann_dir):\n",
    "        labels = set([yolo_ann_file.replace('.txt', '')])\n",
    "    \n",
    "    print(f\"Images without their corresponding annotations: {processed_images - labels}\")\n",
    "    print(f\"annotations without their corresponding images: {labels - processed_images}\")\n",
    "\n",
    "check_missing_files(\n",
    "    processed_dir='D:/ML/iitiSoC/PS 3/visdrone/images/VisDrone2019-DET-train/processed images', \n",
    "    yolo_ann_dir  ='D:/ML/iitiSoC/PS 3/visdrone/images/VisDrone2019-DET-train/labels')\n",
    "\n",
    "check_missing_files(\n",
    "    processed_dir='D:/ML/iitiSoC/PS 3/visdrone/images/VisDrone2019-DET-val/processed images', \n",
    "    yolo_ann_dir  ='D:/ML/iitiSoC/PS 3/visdrone/images/VisDrone2019-DET-val/labels'\n",
    ")"
   ]
  },
  {
   "cell_type": "code",
   "execution_count": null,
   "id": "c8de0169",
   "metadata": {},
   "outputs": [],
   "source": []
  }
 ],
 "metadata": {
  "kernelspec": {
   "display_name": "Python 3",
   "language": "python",
   "name": "python3"
  },
  "language_info": {
   "codemirror_mode": {
    "name": "ipython",
    "version": 3
   },
   "file_extension": ".py",
   "mimetype": "text/x-python",
   "name": "python",
   "nbconvert_exporter": "python",
   "pygments_lexer": "ipython3",
   "version": "3.13.3"
  }
 },
 "nbformat": 4,
 "nbformat_minor": 5
}
